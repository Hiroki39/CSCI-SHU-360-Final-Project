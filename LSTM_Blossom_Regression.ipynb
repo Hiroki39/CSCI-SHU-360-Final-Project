{
 "metadata": {
  "language_info": {
   "codemirror_mode": {
    "name": "ipython",
    "version": 3
   },
   "file_extension": ".py",
   "mimetype": "text/x-python",
   "name": "python",
   "nbconvert_exporter": "python",
   "pygments_lexer": "ipython3",
   "version": "3.9.5"
  },
  "orig_nbformat": 2,
  "kernelspec": {
   "name": "python395jvsc74a57bd0aee8b7b246df8f9039afb4144a1f6fd8d2ca17a180786b69acc140d282b71a49",
   "display_name": "Python 3.9.5 64-bit"
  },
  "metadata": {
   "interpreter": {
    "hash": "aee8b7b246df8f9039afb4144a1f6fd8d2ca17a180786b69acc140d282b71a49"
   }
  }
 },
 "nbformat": 4,
 "nbformat_minor": 2,
 "cells": [
  {
   "cell_type": "code",
   "execution_count": 8,
   "metadata": {},
   "outputs": [],
   "source": [
    "import torch\n",
    "import torch.nn as nn\n",
    "import numpy as np\n",
    "import pandas as pd\n",
    "import matplotlib.pyplot as plt\n",
    "from sklearn import metrics\n",
    "from sklearn.utils import shuffle\n",
    "from sklearn.model_selection import train_test_split\n",
    "from sklearn.preprocessing import MinMaxScaler\n",
    "%matplotlib inline"
   ]
  },
  {
   "cell_type": "code",
   "execution_count": 9,
   "metadata": {},
   "outputs": [],
   "source": [
    "class LSTM(nn.Module):\n",
    "    def __init__(self):\n",
    "        super().__init__()\n",
    "        self.hidden_layer_size = 30\n",
    "        self.lstm = nn.LSTM(input_size=20, hidden_size=self.hidden_layer_size, num_layers=2, dropout=0.5)   \n",
    "        self.linear1 = nn.Linear(self.hidden_layer_size, self.hidden_layer_size)  # equivalent to Dense in keras\n",
    "        self.linear2 = nn.Linear(self.hidden_layer_size, 1)  # equivalent to Dense in keras\n",
    "        self.hidden_cell = (torch.zeros(2, 1, self.hidden_layer_size),\n",
    "                            torch.zeros(2, 1, self.hidden_layer_size))\n",
    "\n",
    "    def forward(self, input_seq):\n",
    "        lstm_out, self.hidden_cell = self.lstm(input_seq.view(len(input_seq) ,1, -1), self.hidden_cell)\n",
    "        prediction = self.linear2(self.linear1(lstm_out.view(len(input_seq), -1)))\n",
    "        return prediction"
   ]
  },
  {
   "cell_type": "code",
   "execution_count": 10,
   "metadata": {},
   "outputs": [],
   "source": [
    "model = LSTM()\n",
    "loss_function = nn.MSELoss()\n",
    "optimizer = torch.optim.Adam(model.parameters(), lr=0.005)"
   ]
  },
  {
   "cell_type": "code",
   "execution_count": 11,
   "metadata": {
    "tags": []
   },
   "outputs": [],
   "source": [
    "data = np.genfromtxt(\"ML_Datasets/processed_data_regression.csv\", delimiter=\",\")\n",
    "X = data[:, :-1]\n",
    "y = data[:, -1]\n",
    "\n",
    "# normalize the data\n",
    "X = MinMaxScaler().fit_transform(X)\n",
    "X_train, X_test, y_train, y_test = train_test_split(X, y, test_size=0.2)"
   ]
  },
  {
   "cell_type": "code",
   "execution_count": 12,
   "metadata": {},
   "outputs": [],
   "source": [
    "X_train = torch.Tensor(X_train)\n",
    "y_train = torch.Tensor(y_train)\n",
    "X_test = torch.Tensor(X_test)\n",
    "y_test = torch.Tensor(y_test)"
   ]
  },
  {
   "cell_type": "code",
   "execution_count": 13,
   "metadata": {
    "tags": []
   },
   "outputs": [
    {
     "output_type": "stream",
     "name": "stdout",
     "text": [
      "epoch:   1 loss: 2144.33227539\n",
      "epoch:  11 loss: 1844.83227539\n",
      "epoch:  21 loss: 1160.10339355\n",
      "epoch:  31 loss: 604.97161865\n",
      "epoch:  41 loss: 580.27032471\n",
      "epoch:  51 loss: 553.26641846\n",
      "epoch:  61 loss: 543.92120361\n",
      "epoch:  71 loss: 543.15985107\n",
      "epoch:  81 loss: 541.19268799\n",
      "epoch:  91 loss: 541.09881592\n",
      "epoch:  99 loss: 540.83337402\n"
     ]
    }
   ],
   "source": [
    "epochs = 100\n",
    "\n",
    "for i in range(epochs):\n",
    "\n",
    "    X_train, y_train = shuffle(X_train, y_train)\n",
    "\n",
    "    optimizer.zero_grad()\n",
    "    model.hidden_cell = (torch.zeros(2, 1, model.hidden_layer_size),\n",
    "                         torch.zeros(2, 1, model.hidden_layer_size))\n",
    "\n",
    "    y_preds = model(X_train)\n",
    "\n",
    "    train_loss = loss_function(y_preds.view(-1), y_train)\n",
    "    train_loss.backward()\n",
    "    optimizer.step()\n",
    "\n",
    "    if i % 10 == 1:\n",
    "        print(f'epoch: {i:3} loss: {train_loss.item():10.8f}')\n",
    "\n",
    "print(f'epoch: {i:3} loss: {train_loss.item():10.8f}')"
   ]
  },
  {
   "cell_type": "code",
   "execution_count": 15,
   "metadata": {},
   "outputs": [
    {
     "output_type": "stream",
     "name": "stdout",
     "text": [
      "Test Loss: 542.1914062500\n"
     ]
    }
   ],
   "source": [
    "model.eval()\n",
    "    \n",
    "with torch.no_grad():\n",
    "\n",
    "    y_test_preds = torch.empty(len(y_test))\n",
    "\n",
    "    for j in range(len(X_test)):\n",
    "        y_test_preds[j] = model(X_test[j, :].view(1, len(X_test[j, :])))\n",
    "\n",
    "    test_loss = loss_function(y_test_preds, y_test)\n",
    "\n",
    "print(f'Test Loss: {test_loss.item():10.10f}')"
   ]
  },
  {
   "cell_type": "code",
   "execution_count": null,
   "metadata": {},
   "outputs": [],
   "source": []
  }
 ]
}