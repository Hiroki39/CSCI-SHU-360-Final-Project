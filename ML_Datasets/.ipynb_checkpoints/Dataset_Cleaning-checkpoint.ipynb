{
 "cells": [
  {
   "cell_type": "code",
   "execution_count": 1,
   "metadata": {},
   "outputs": [],
   "source": [
    "import pandas as pd\n",
    "import numpy as np\n",
    "import dateutil"
   ]
  },
  {
   "cell_type": "markdown",
   "metadata": {},
   "source": [
    "$\\space$\n",
    "# Label Set --> year | DOY "
   ]
  },
  {
   "cell_type": "code",
   "execution_count": 2,
   "metadata": {},
   "outputs": [],
   "source": [
    "# 1921-2016 -- Washington.D.C\n",
    "WDC_df = pd.read_csv('WashingtonDC_1921-2016_labels.csv', header=6, usecols=['Year','Yoshino peak bloom date']).fillna(0)\n",
    "WDC_df.to_csv(\"0_Labels_WDC.csv\", header=['year','DOY'], index=False)          \n",
    "\n",
    "# 1881-2015 -- Kyoto\n",
    "df = pd.read_excel('Kyoto_AD 801-2015_labels.xls', header = 24)\n",
    "kyoto_df = df.loc[(1881-801):, ['AD', 'Full-flowering date (DOY)']].fillna(0)\n",
    "kyoto_df.to_csv(\"0_Labels_Kyoto.csv\", header=['year','DOY'], index=False)      "
   ]
  },
  {
   "cell_type": "markdown",
   "metadata": {},
   "source": [
    "$\\space$\n",
    "# Temperature Set --> year | month | day | DOY | TAVG | TMAX | TMIN "
   ]
  },
  {
   "cell_type": "markdown",
   "metadata": {},
   "source": [
    "### 日本 1881-2020 的日均温度数据(日本温度记录元年是1881/1/1)"
   ]
  },
  {
   "cell_type": "code",
   "execution_count": 3,
   "metadata": {},
   "outputs": [],
   "source": [
    "files = ['data_1881-1891.csv', 'data_1892-1911.csv', 'data_1912-1920.csv', \n",
    "         'data_1921-1940.csv', 'data_1941-1960.csv', 'data_1961-1980.csv']\n",
    "frames = [(pd.read_csv(f, header=None, usecols=[3,4,5,6,9,12]).fillna(0)) for f in files ]\n",
    "result = pd.concat(frames)"
   ]
  },
  {
   "cell_type": "code",
   "execution_count": 4,
   "metadata": {},
   "outputs": [],
   "source": [
    "# DOY 的值不对 -- 没有考虑闰年\n",
    "doy = (result.index+1+120)%(120)\n",
    "DOY = pd.Series(doy).replace(0,120)"
   ]
  },
  {
   "cell_type": "code",
   "execution_count": 5,
   "metadata": {},
   "outputs": [],
   "source": [
    "result['DOY'] = DOY\n",
    "result.to_csv(\"1_Temperature_Kyoto.csv\", header=['year', 'month', 'day', 'TAVG', 'TMAX', 'TMIN', 'DOY'], index=False)"
   ]
  },
  {
   "cell_type": "markdown",
   "metadata": {},
   "source": [
    "### WDC 1949-2020 的日均温度数据"
   ]
  },
  {
   "cell_type": "code",
   "execution_count": 6,
   "metadata": {},
   "outputs": [],
   "source": [
    "df1 = pd.read_csv('WDC_Temp_1949-1989.csv', usecols = ['DATE', 'TMAX', 'TMIN', 'TOBS'])\n",
    "df2 = pd.read_csv('WDC_Temp_1990-2020.csv', usecols = ['DATE', 'TMAX', 'TMIN', 'TOBS'])\n",
    "df = pd.concat([df1, df2], sort =False)\n",
    "df['TMAX'] = df['TMAX'].replace(np.nan, 0)\n",
    "df['TMIN'] = df['TMIN'].replace(np.nan, 0)"
   ]
  },
  {
   "cell_type": "code",
   "execution_count": 7,
   "metadata": {},
   "outputs": [],
   "source": [
    "# 1. NaN in \"TOBS\" = Average(TMAX, TMIN)\n",
    "col_avg = (df.loc[df['TOBS'].isna(),'TMAX'].add(df.loc[df['TOBS'].isna(),'TMIN'])) * 0.5\n",
    "df.loc[df['TOBS'].isna(), 'TOBS'] = col_avg"
   ]
  },
  {
   "cell_type": "code",
   "execution_count": 8,
   "metadata": {},
   "outputs": [
    {
     "name": "stdout",
     "output_type": "stream",
     "text": [
      "     DATE  TMAX  TMIN  TOBS\n",
      "0  1/1/49  42.0  33.0  42.0\n",
      "1  1/1/49  57.0  32.0  43.0\n",
      "2  1/1/49  39.0  29.0  37.0\n",
      "3  1/1/49  43.0  35.0  39.0\n",
      "4  1/1/49  42.0  36.0  39.0\n"
     ]
    }
   ],
   "source": [
    "try_df = df.head()\n",
    "print(try_df)"
   ]
  },
  {
   "cell_type": "code",
   "execution_count": 9,
   "metadata": {},
   "outputs": [],
   "source": [
    "# df[\"DATE\"]= pd.to_datetime(df[\"DATE\"])"
   ]
  },
  {
   "cell_type": "code",
   "execution_count": 10,
   "metadata": {},
   "outputs": [],
   "source": [
    "# 2. 清理保留每年 1.1-4.30 的数据"
   ]
  },
  {
   "cell_type": "code",
   "execution_count": null,
   "metadata": {},
   "outputs": [],
   "source": []
  },
  {
   "cell_type": "code",
   "execution_count": 11,
   "metadata": {},
   "outputs": [],
   "source": [
    "# 3. 修改日期表达 --> Year | DOY | month | Day --> index"
   ]
  },
  {
   "cell_type": "code",
   "execution_count": null,
   "metadata": {},
   "outputs": [],
   "source": []
  },
  {
   "cell_type": "code",
   "execution_count": 12,
   "metadata": {},
   "outputs": [],
   "source": [
    "# 记得调整 ‘TAVG’ 的位置\n",
    "# pd.concat([df1, df2]).to_csv(\"1_Temperature_WDC.csv\", header=['year', 'month', 'day', 'DOY', 'TAVG', 'TMAX', 'TMIN'], index=False)"
   ]
  }
 ],
 "metadata": {
  "kernelspec": {
   "display_name": "Python 3",
   "language": "python",
   "name": "python3"
  },
  "language_info": {
   "codemirror_mode": {
    "name": "ipython",
    "version": 3
   },
   "file_extension": ".py",
   "mimetype": "text/x-python",
   "name": "python",
   "nbconvert_exporter": "python",
   "pygments_lexer": "ipython3",
   "version": "3.7.1"
  }
 },
 "nbformat": 4,
 "nbformat_minor": 2
}
